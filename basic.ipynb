{
 "cells": [
  {
   "cell_type": "code",
   "execution_count": 2,
   "id": "982b8e63",
   "metadata": {},
   "outputs": [],
   "source": [
    "\n",
    "import numpy as np\n",
    "import matplotlib.pyplot as plt\n",
    "from sklearn.decomposition import PCA\n",
    "from collections import defaultdict\n",
    "\n",
    "corpus = [\n",
    "    \"king is a strong man\",\n",
    "    \"queen is a wise woman\",\n",
    "    \"boy is a young man\",\n",
    "    \"girl is a young woman\",\n",
    "    \"prince is a young king\",\n",
    "    \"princess is a young queen\",\n",
    "    \"man is strong\",\n",
    "    \"woman is pretty\",\n",
    "    \"prince is boy will be king\",\n",
    "    \"princess is girl will be queen\"\n",
    "]\n",
    "\n",
    "def tokenize_corpus(corpus):\n",
    "    return [sentence.lower().split() for sentence in corpus]\n",
    "\n",
    "tokenized_corpus = tokenize_corpus(corpus)\n"
   ]
  },
  {
   "cell_type": "code",
   "execution_count": 3,
   "id": "35c44803",
   "metadata": {},
   "outputs": [
    {
     "name": "stdout",
     "output_type": "stream",
     "text": [
      "Vocabulary: {'king': 0, 'is': 1, 'a': 2, 'strong': 3, 'man': 4, 'queen': 5, 'wise': 6, 'woman': 7, 'boy': 8, 'young': 9, 'girl': 10, 'prince': 11, 'princess': 12, 'pretty': 13, 'will': 14, 'be': 15}\n"
     ]
    }
   ],
   "source": [
    "\n",
    "def build_vocab(tokenized_corpus):\n",
    "    word_freq = defaultdict(int)\n",
    "    for sentence in tokenized_corpus:\n",
    "        for word in sentence:\n",
    "            word_freq[word] += 1\n",
    "    word_to_idx = {word: idx for idx, word in enumerate(word_freq)}\n",
    "    idx_to_word = {idx: word for word, idx in word_to_idx.items()}\n",
    "    return word_to_idx, idx_to_word\n",
    "\n",
    "word_to_idx, idx_to_word = build_vocab(tokenized_corpus)\n",
    "vocab_size = len(word_to_idx)\n",
    "print(\"Vocabulary:\", word_to_idx)\n"
   ]
  },
  {
   "cell_type": "code",
   "execution_count": 4,
   "id": "f3f387e9",
   "metadata": {},
   "outputs": [
    {
     "name": "stdout",
     "output_type": "stream",
     "text": [
      "Sample training pair: (['is', 'a'], 'king')\n"
     ]
    }
   ],
   "source": [
    "\n",
    "def generate_cbow_data(tokenized_corpus, window_size=2):\n",
    "    data = []\n",
    "    for sentence in tokenized_corpus:\n",
    "        for idx, word in enumerate(sentence):\n",
    "            context = []\n",
    "            for neighbor in range(-window_size, window_size + 1):\n",
    "                if neighbor == 0 or idx + neighbor < 0 or idx + neighbor >= len(sentence):\n",
    "                    continue\n",
    "                context.append(sentence[idx + neighbor])\n",
    "            data.append((context, word))\n",
    "    return data\n",
    "\n",
    "training_data = generate_cbow_data(tokenized_corpus)\n",
    "print(\"Sample training pair:\", training_data[0])\n"
   ]
  },
  {
   "cell_type": "code",
   "execution_count": 5,
   "id": "ecabee60",
   "metadata": {},
   "outputs": [],
   "source": [
    "\n",
    "class CBOW:\n",
    "    def __init__(self, vocab_size, embedding_dim):\n",
    "        self.vocab_size = vocab_size\n",
    "        self.embedding_dim = embedding_dim\n",
    "        self.W1 = np.random.rand(vocab_size, embedding_dim)\n",
    "        self.W2 = np.random.rand(embedding_dim, vocab_size)\n",
    "\n",
    "    def softmax(self, x):\n",
    "        e_x = np.exp(x - np.max(x))\n",
    "        return e_x / e_x.sum(axis=0)\n",
    "\n",
    "    def forward(self, context_vectors):\n",
    "        h = np.mean(context_vectors, axis=0)\n",
    "        u = np.dot(h, self.W2)\n",
    "        y_pred = self.softmax(u)\n",
    "        return y_pred, h\n",
    "\n",
    "    def train(self, training_data, word_to_idx, epochs=100, learning_rate=0.05):\n",
    "        for epoch in range(epochs):\n",
    "            loss = 0\n",
    "            for context, target in training_data:\n",
    "                context_vectors = np.array([self.W1[word_to_idx[w]] for w in context])\n",
    "                y_pred, h = self.forward(context_vectors)\n",
    "                target_vec = np.zeros(self.vocab_size)\n",
    "                target_vec[word_to_idx[target]] = 1\n",
    "                e = y_pred - target_vec\n",
    "\n",
    "                dW2 = np.outer(h, e)\n",
    "                dW1 = np.dot(self.W2, e) / len(context)\n",
    "\n",
    "                for word in context:\n",
    "                    self.W1[word_to_idx[word]] -= learning_rate * dW1\n",
    "                self.W2 -= learning_rate * dW2\n",
    "\n",
    "                loss += -np.log(y_pred[word_to_idx[target]] + 1e-7)\n",
    "            if epoch % 10 == 0:\n",
    "                print(f\"Epoch {epoch}, Loss: {loss:.4f}\")\n",
    "\n",
    "    def get_embeddings(self):\n",
    "        return self.W1\n"
   ]
  },
  {
   "cell_type": "code",
   "execution_count": 6,
   "id": "39d81902",
   "metadata": {},
   "outputs": [
    {
     "name": "stdout",
     "output_type": "stream",
     "text": [
      "Epoch 0, Loss: 135.2062\n",
      "Epoch 10, Loss: 108.7498\n",
      "Epoch 20, Loss: 87.1622\n",
      "Epoch 30, Loss: 68.5949\n",
      "Epoch 40, Loss: 54.8784\n",
      "Epoch 50, Loss: 45.3982\n",
      "Epoch 60, Loss: 39.2917\n",
      "Epoch 70, Loss: 35.4383\n",
      "Epoch 80, Loss: 32.9345\n",
      "Epoch 90, Loss: 31.2300\n"
     ]
    }
   ],
   "source": [
    "\n",
    "model = CBOW(vocab_size, embedding_dim=10)\n",
    "model.train(training_data, word_to_idx, epochs=100, learning_rate=0.05)\n",
    "embeddings = model.get_embeddings()\n"
   ]
  },
  {
   "cell_type": "code",
   "execution_count": 7,
   "id": "e6d05a27",
   "metadata": {},
   "outputs": [
    {
     "data": {
      "image/png": "[encoded data removed]",
      "text/plain": [
       "<Figure size 1000x800 with 1 Axes>"
      ]
     },
     "metadata": {},
     "output_type": "display_data"
    }
   ],
   "source": [
    "\n",
    "pca = PCA(n_components=2)\n",
    "reduced = pca.fit_transform(embeddings)\n",
    "\n",
    "plt.figure(figsize=(10, 8))\n",
    "for i, word in enumerate(word_to_idx):\n",
    "    x, y = reduced[i]\n",
    "    plt.scatter(x, y)\n",
    "    plt.annotate(word, (x, y), textcoords=\"offset points\", xytext=(0, 5), ha='center')\n",
    "plt.title(\"PCA Visualization of Word Embeddings (CBOW)\")\n",
    "plt.show()\n"
   ]
  },
  {
   "cell_type": "code",
   "execution_count": 8,
   "id": "c697ffaa",
   "metadata": {},
   "outputs": [
    {
     "name": "stdout",
     "output_type": "stream",
     "text": [
      "Words similar to 'king':\n",
      "queen (score: 17.200)\n",
      "man (score: 15.593)\n",
      "woman (score: 9.309)\n",
      "young (score: 8.772)\n",
      "prince (score: 7.747)\n",
      "Words similar to 'princess':\n",
      "prince (score: 9.440)\n",
      "girl (score: 8.208)\n",
      "woman (score: 7.462)\n",
      "boy (score: 7.269)\n",
      "pretty (score: 7.154)\n"
     ]
    }
   ],
   "source": [
    "\n",
    "def most_similar(word, top_n=5):\n",
    "    idx = word_to_idx[word]\n",
    "    vec = embeddings[idx]\n",
    "    sims = embeddings @ vec\n",
    "    sims[idx] = -np.inf  # ignore itself\n",
    "    top_indices = np.argsort(sims)[-top_n:][::-1]\n",
    "    print(f\"Words similar to '{word}':\")\n",
    "    for i in top_indices:\n",
    "        print(f\"{idx_to_word[i]} (score: {sims[i]:.3f})\")\n",
    "\n",
    "most_similar(\"king\")\n",
    "most_similar(\"princess\")\n"
   ]
  }
 ],
 "metadata": {
  "kernelspec": {
   "display_name": "Python 3",
   "language": "python",
   "name": "python3"
  },
  "language_info": {
   "codemirror_mode": {
    "name": "ipython",
    "version": 3
   },
   "file_extension": ".py",
   "mimetype": "text/x-python",
   "name": "python",
   "nbconvert_exporter": "python",
   "pygments_lexer": "ipython3",
   "version": "3.12.1"
  }
 },
 "nbformat": 4,
 "nbformat_minor": 5
}
